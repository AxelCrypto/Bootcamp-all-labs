{
 "cells": [
  {
   "cell_type": "code",
   "execution_count": 112,
   "id": "05b7ee11",
   "metadata": {},
   "outputs": [],
   "source": [
    "def longest(a1, a2):\n",
    "    string = []\n",
    "    for e in a1 :\n",
    "        if e not in string:\n",
    "            string.append(e)\n",
    "    for i in a2:\n",
    "        if i not in string:\n",
    "            string.append(i)\n",
    "    string.sort()\n",
    "    return ''.join(string)\n"
   ]
  },
  {
   "cell_type": "code",
   "execution_count": 113,
   "id": "b5a762f0",
   "metadata": {},
   "outputs": [
    {
     "data": {
      "text/plain": [
       "'abcdefklmopqwxy'"
      ]
     },
     "execution_count": 113,
     "metadata": {},
     "output_type": "execute_result"
    }
   ],
   "source": [
    "a = \"xyaabbbccccdefww\"\n",
    "b = \"xxxxyyyyabklmopq\"\n",
    "longest(a,b)"
   ]
  },
  {
   "cell_type": "code",
   "execution_count": 103,
   "id": "8dd2ab45",
   "metadata": {},
   "outputs": [],
   "source": [
    "def get_sum(a, b):\n",
    "    summ = 0\n",
    "    if a == b:\n",
    "        summ = a\n",
    "    elif a < b:\n",
    "        for e in range(a, b+1):\n",
    "            summ += e\n",
    "    else:\n",
    "        for e in range(b, a+1):\n",
    "            summ += e\n",
    "    return summ\n"
   ]
  },
  {
   "cell_type": "code",
   "execution_count": 105,
   "id": "9b37f645",
   "metadata": {},
   "outputs": [
    {
     "data": {
      "text/plain": [
       "15"
      ]
     },
     "execution_count": 105,
     "metadata": {},
     "output_type": "execute_result"
    }
   ],
   "source": [
    "get_sum(1,5)ñ"
   ]
  },
  {
   "cell_type": "code",
   "execution_count": null,
   "id": "7140a022",
   "metadata": {},
   "outputs": [],
   "source": []
  }
 ],
 "metadata": {
  "kernelspec": {
   "display_name": "Python 3 (ipykernel)",
   "language": "python",
   "name": "python3"
  },
  "language_info": {
   "codemirror_mode": {
    "name": "ipython",
    "version": 3
   },
   "file_extension": ".py",
   "mimetype": "text/x-python",
   "name": "python",
   "nbconvert_exporter": "python",
   "pygments_lexer": "ipython3",
   "version": "3.9.13"
  }
 },
 "nbformat": 4,
 "nbformat_minor": 5
}

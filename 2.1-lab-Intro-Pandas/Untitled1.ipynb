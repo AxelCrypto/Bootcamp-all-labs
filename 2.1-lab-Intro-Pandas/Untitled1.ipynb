{
 "cells": [
  {
   "cell_type": "code",
   "execution_count": 1,
   "id": "2ab1abfd",
   "metadata": {},
   "outputs": [],
   "source": [
    "def potatoes(p0, w0, p1):\n",
    "    # potatoes = 100kg\n",
    "    # potatoes = water + dry\n",
    "    # before oven : water = 99% of 100kg\n",
    "    # after oven : water = 98% of x kg\n",
    "    # so it x% water = %before - %after\n",
    "    \n",
    "    w1 = (p0-p1)*w0\n",
    "    return w1\n",
    "    # p0 = 99\n",
    "    # w0 = 100\n",
    "    # p1 = 98\n",
    "    "
   ]
  },
  {
   "cell_type": "code",
   "execution_count": 2,
   "id": "1f8c35d5",
   "metadata": {},
   "outputs": [
    {
     "data": {
      "text/plain": [
       "254"
      ]
     },
     "execution_count": 2,
     "metadata": {},
     "output_type": "execute_result"
    }
   ],
   "source": [
    "potatoes (82, 127, 80)"
   ]
  },
  {
   "cell_type": "code",
   "execution_count": 3,
   "id": "51e8a700",
   "metadata": {},
   "outputs": [
    {
     "data": {
      "text/plain": [
       "258"
      ]
     },
     "execution_count": 3,
     "metadata": {},
     "output_type": "execute_result"
    }
   ],
   "source": [
    "potatoes(93, 129, 91)"
   ]
  },
  {
   "cell_type": "code",
   "execution_count": 5,
   "id": "87eb00ed",
   "metadata": {},
   "outputs": [
    {
     "data": {
      "text/plain": [
       "'\\nSimple, given a string of words, return the length of the shortest word(s).\\n\\nString will never be empty and you do not need to account for different data types.\\n'"
      ]
     },
     "execution_count": 5,
     "metadata": {},
     "output_type": "execute_result"
    }
   ],
   "source": []
  },
  {
   "cell_type": "code",
   "execution_count": 37,
   "id": "25660f7e",
   "metadata": {},
   "outputs": [],
   "source": []
  },
  {
   "cell_type": "code",
   "execution_count": 38,
   "id": "dbcc214c",
   "metadata": {},
   "outputs": [
    {
     "data": {
      "text/plain": [
       "3"
      ]
     },
     "execution_count": 38,
     "metadata": {},
     "output_type": "execute_result"
    }
   ],
   "source": []
  },
  {
   "cell_type": "code",
   "execution_count": null,
   "id": "fb432084",
   "metadata": {},
   "outputs": [],
   "source": []
  }
 ],
 "metadata": {
  "kernelspec": {
   "display_name": "Python 3 (ipykernel)",
   "language": "python",
   "name": "python3"
  },
  "language_info": {
   "codemirror_mode": {
    "name": "ipython",
    "version": 3
   },
   "file_extension": ".py",
   "mimetype": "text/x-python",
   "name": "python",
   "nbconvert_exporter": "python",
   "pygments_lexer": "ipython3",
   "version": "3.9.13"
  }
 },
 "nbformat": 4,
 "nbformat_minor": 5
}

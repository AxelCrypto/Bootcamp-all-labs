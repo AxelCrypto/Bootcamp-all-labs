{
 "cells": [
  {
   "cell_type": "code",
   "execution_count": 1,
   "id": "dd701af2",
   "metadata": {},
   "outputs": [
    {
     "data": {
      "text/plain": [
       "'\\nInput:\\n\\nfibs_fizz_buzz(20)\\nOutput:\\n\\n[1,1,2,\"Fizz\",\"Buzz\",8,13,\"Fizz\",34,\"Buzz\",89,\"Fizz\",233,377,\"Buzz\",\"Fizz\",1597,2584,4181,\"FizzBuzz\"]\\n'"
      ]
     },
     "execution_count": 1,
     "metadata": {},
     "output_type": "execute_result"
    }
   ],
   "source": [
    "'''\n",
    "Input:\n",
    "\n",
    "fibs_fizz_buzz(20)\n",
    "Output:\n",
    "\n",
    "[1,1,2,\"Fizz\",\"Buzz\",8,13,\"Fizz\",34,\"Buzz\",89,\"Fizz\",233,377,\"Buzz\",\"Fizz\",1597,2584,4181,\"FizzBuzz\"]\n",
    "'''\n",
    "\n",
    "\n",
    "\n"
   ]
  },
  {
   "cell_type": "code",
   "execution_count": 12,
   "id": "75ad7e59",
   "metadata": {},
   "outputs": [],
   "source": [
    "def fibs_fizz_buzz(n):\n",
    "    lista = []\n",
    "    act = 1\n",
    "    sig = 1\n",
    "    \n",
    "    for i in range(n):\n",
    "        if (act % 3 == 0) & (act % 5 != 0):\n",
    "            lista.append(\"Fizz\")\n",
    "        elif (act % 3 != 0) & (act % 5 == 0):\n",
    "            lista.append(\"Buzz\")\n",
    "        elif (act % 3 == 0) & (act % 5 == 0):\n",
    "            lista.append(\"FizzBuzz\")\n",
    "        else:\n",
    "            lista.append(act)\n",
    "        swap = act\n",
    "        act = sig\n",
    "        sig += swap\n",
    "    \n",
    "    return(lista)"
   ]
  },
  {
   "cell_type": "code",
   "execution_count": 13,
   "id": "051ef617",
   "metadata": {},
   "outputs": [
    {
     "data": {
      "text/plain": [
       "[1, 1, 2, 'Fizz', 'Buzz', 8, 13, 'Fizz', 34, 'Buzz']"
      ]
     },
     "execution_count": 13,
     "metadata": {},
     "output_type": "execute_result"
    }
   ],
   "source": [
    "fibs_fizz_buzz(10)"
   ]
  },
  {
   "cell_type": "code",
   "execution_count": null,
   "id": "a276f48a",
   "metadata": {},
   "outputs": [],
   "source": []
  },
  {
   "cell_type": "code",
   "execution_count": null,
   "id": "6806fe78",
   "metadata": {},
   "outputs": [],
   "source": []
  },
  {
   "cell_type": "code",
   "execution_count": null,
   "id": "aa349f37",
   "metadata": {},
   "outputs": [],
   "source": []
  },
  {
   "cell_type": "code",
   "execution_count": null,
   "id": "44b6d816",
   "metadata": {},
   "outputs": [],
   "source": []
  },
  {
   "cell_type": "code",
   "execution_count": null,
   "id": "13fcff46",
   "metadata": {},
   "outputs": [],
   "source": []
  },
  {
   "cell_type": "code",
   "execution_count": null,
   "id": "3386c48c",
   "metadata": {},
   "outputs": [],
   "source": []
  }
 ],
 "metadata": {
  "kernelspec": {
   "display_name": "Python 3 (ipykernel)",
   "language": "python",
   "name": "python3"
  },
  "language_info": {
   "codemirror_mode": {
    "name": "ipython",
    "version": 3
   },
   "file_extension": ".py",
   "mimetype": "text/x-python",
   "name": "python",
   "nbconvert_exporter": "python",
   "pygments_lexer": "ipython3",
   "version": "3.9.13"
  }
 },
 "nbformat": 4,
 "nbformat_minor": 5
}
